{
 "cells": [
  {
   "cell_type": "code",
   "execution_count": null,
   "metadata": {},
   "outputs": [],
   "source": [
    "#Group1\tGroup2\tGroup3\t\tAnova: Single Factor\t\t\t\t\t\t\n",
    "#51\t23\t56\t\t\t\t\t\t\t\t\n",
    "#45\t43\t76\t\tSUMMARY\t\t\t\t\t\t\n",
    "#33\t23\t74\t\tGroups\tCount\tSum\tAverage\tVariance\t\t\n",
    "#45\t43\t87\t\tColumn 1\t5\t241\t48,2\t153,2\t\t\n",
    "#67\t45\t56\t\tColumn 2\t5\t177\t35,4\t128,8\t\t\n",
    "#\t\t\t\tColumn 3\t5\t349\t69,8\t183,2\t\t\n",
    "#\t\t\t\t\t\t\t\t\t\t\n",
    "#H0 - Null Hypotheis\t\t\t\t\t\t\t\t\t\t\n",
    "#H0 - Mu1 = Mu2 = Mu3\t\t\t\tANOVA\t\t\t\t\t\t\n",
    "#\t\t\t\tSource of Variation\tSS\tdf\tMS\tF\tP-value\tF crit\n",
    "#H1 - at least one of means is different\t\t\t\tBetween Groups\t3022,933333\t2\t1511,466667\t9,747205503\t0,003059754\t3,885293835\n",
    "#\t\t\t\tWithin Groups\t1860,8\t12\t155,0666667\t\t\t\n",
    "#\t\t\t\t\t\t\t\t\t\t\n",
    "#\t\t\t\tTotal\t4883,733333\t14\t\t\t\t\n",
    "#\t\t\t\t\t\t\t\t\t\t\n",
    "#\t\t\t\t\t\t\t\t\t\t\n",
    "#\t\t\t\tif F > F crit, we reject the null hypothesis. This is the case, 9.7472 > 3.885. \t\t\t\t\t\t\n",
    "#\t\t\t\tTherefore, we reject the null hypothesis. The means of the three population groups are not all equal. At least one of the means is different.\t\t\t\t\t\t\n",
    "#\t\t\t\t\t\t\t\t\t\t\n"
   ]
  }
 ],
 "metadata": {
  "kernelspec": {
   "display_name": "Python 3",
   "language": "python",
   "name": "python3"
  },
  "language_info": {
   "codemirror_mode": {
    "name": "ipython",
    "version": 3
   },
   "file_extension": ".py",
   "mimetype": "text/x-python",
   "name": "python",
   "nbconvert_exporter": "python",
   "pygments_lexer": "ipython3",
   "version": "3.6.4"
  }
 },
 "nbformat": 4,
 "nbformat_minor": 2
}
